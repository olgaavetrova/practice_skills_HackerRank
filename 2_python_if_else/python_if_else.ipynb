{
 "cells": [
  {
   "cell_type": "code",
   "execution_count": 2,
   "metadata": {},
   "outputs": [],
   "source": [
    "import math\n",
    "import os\n",
    "import random\n",
    "import re\n",
    "import sys"
   ]
  },
  {
   "cell_type": "markdown",
   "metadata": {},
   "source": [
    "### version 1"
   ]
  },
  {
   "cell_type": "code",
   "execution_count": 14,
   "metadata": {},
   "outputs": [
    {
     "name": "stdout",
     "output_type": "stream",
     "text": [
      "45\n",
      "Weird\n"
     ]
    }
   ],
   "source": [
    "def check_number(number):\n",
    "    if number % 2 != 0:\n",
    "        print('Weird')\n",
    "    else:\n",
    "        if 2 <= number <= 5:\n",
    "            print('Not Weird')\n",
    "        elif 6 <= number <= 20:\n",
    "            print('Weird')\n",
    "        elif number > 20:\n",
    "            print('Not Weird')\n",
    "\n",
    "\n",
    "if __name__ == '__main__':\n",
    "    n = int(input().strip())\n",
    "    if 1 <= n <= 100:\n",
    "        check_number(n)\n",
    "    else:\n",
    "        print('Please enter a number between 1 and 100')"
   ]
  },
  {
   "cell_type": "markdown",
   "metadata": {},
   "source": [
    "### version 2"
   ]
  },
  {
   "cell_type": "code",
   "execution_count": null,
   "metadata": {},
   "outputs": [],
   "source": [
    "def input_number(number):\n",
    "    try:\n",
    "        if 1 <= int(number) <= 100:\n",
    "            n = int(number)\n",
    "            check_number(n)\n",
    "        else:\n",
    "            print('Value not within specified limits!\\n')\n",
    "            n = (input('Please enter a number between 1 and 100: ').strip())\n",
    "            input_number(n)\n",
    "    except ValueError:\n",
    "        print('The value is incorrect!\\n')\n",
    "        n = (input('Please enter a number between 1 and 100: ').strip())\n",
    "        input_number(n)\n",
    "\n",
    "\n",
    "def check_number(number):\n",
    "    if number % 2 != 0:\n",
    "        print('Weird')\n",
    "    else:\n",
    "        if 2 <= number <= 5:\n",
    "            print('Not Weird')\n",
    "        elif 6 <= number <= 20:\n",
    "            print('Weird')\n",
    "        elif number > 20:\n",
    "            print('Not Weird')\n",
    "\n",
    "\n",
    "if __name__ == '__main__':\n",
    "    n = (input('Please enter a number between 1 and 100: ').strip())\n",
    "    input_number(n)"
   ]
  }
 ],
 "metadata": {
  "kernelspec": {
   "display_name": "Python 3",
   "language": "python",
   "name": "python3"
  },
  "language_info": {
   "codemirror_mode": {
    "name": "ipython",
    "version": 3
   },
   "file_extension": ".py",
   "mimetype": "text/x-python",
   "name": "python",
   "nbconvert_exporter": "python",
   "pygments_lexer": "ipython3",
   "version": "3.7.6"
  }
 },
 "nbformat": 4,
 "nbformat_minor": 4
}
